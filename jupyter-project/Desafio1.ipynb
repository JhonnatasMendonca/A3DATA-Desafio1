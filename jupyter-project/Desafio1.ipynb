{
 "cells": [
  {
   "cell_type": "markdown",
   "id": "57a8faee-7bb0-463e-8346-fd7298408da0",
   "metadata": {},
   "source": [
    "CRIAÇÃO E EXTRAÇÃO DOS ARQUIVOS COM ZIPFILE"
   ]
  },
  {
   "cell_type": "code",
   "execution_count": 1,
   "id": "2a17204b-6c30-4680-9460-e9ed777d7c71",
   "metadata": {
    "tags": []
   },
   "outputs": [
    {
     "name": "stderr",
     "output_type": "stream",
     "text": [
      "/opt/conda/lib/python3.10/site-packages/urllib3/connectionpool.py:1045: InsecureRequestWarning: Unverified HTTPS request is being made to host 'download.inep.gov.br'. Adding certificate verification is strongly advised. See: https://urllib3.readthedocs.io/en/1.26.x/advanced-usage.html#ssl-warnings\n",
      "  warnings.warn(\n"
     ]
    }
   ],
   "source": [
    "import requests \n",
    "\n",
    "url=\"https://download.inep.gov.br/microdados/microdados_censo_da_educacao_superior_2021.zip\"\n",
    "\n",
    "r=requests.get(url, verify=False)\n"
   ]
  },
  {
   "cell_type": "code",
   "execution_count": 2,
   "id": "3bac341d-2632-4404-a6e4-27f9083d8bfb",
   "metadata": {
    "tags": []
   },
   "outputs": [],
   "source": [
    "with open(\"r.zip\",\"wb\") as f:\n",
    "    f.write(r.content)\n",
    "    \n",
    "import zipfile \n",
    "\n",
    "with zipfile.ZipFile(\"r.zip\",\"r\") as zip_ref:\n",
    "    zip_ref.extractall(\"./data\")"
   ]
  },
  {
   "cell_type": "markdown",
   "id": "69ee9648-d4de-4a4f-aa45-92b5e948a42e",
   "metadata": {},
   "source": [
    "SPARKSESSION PARA TRATAMENTO DE DADOS"
   ]
  },
  {
   "cell_type": "code",
   "execution_count": 3,
   "id": "adb133cd-77cd-4954-ad95-6f4bd2fec50d",
   "metadata": {
    "tags": []
   },
   "outputs": [],
   "source": [
    "from pyspark.sql import SparkSession\n",
    "from pyspark.sql.functions import when, col, lower\n",
    "\n",
    "spark = SparkSession \\\n",
    "        .builder \\\n",
    "        .config(\"spark.sql.repl.eagerEval.enabled\", \"True\") \\\n",
    "        .config(\"spark.sql.repl.eagerEval.maxNumRows\", \"10\") \\\n",
    "        .getOrCreate()\n",
    "\n",
    "df = spark.read.csv(\"data/Microdados do Censo da Educaç╞o Superior 2021/dados/MICRODADOS_CADASTRO_IES_2021.CSV\", sep=';',header=True, inferSchema=True)\n"
   ]
  },
  {
   "cell_type": "markdown",
   "id": "121a8a5c-c53f-4b17-95a9-0fa71b7e710b",
   "metadata": {},
   "source": [
    "TRANSFORMANDO LETRAS PARA MINUSCULAS"
   ]
  },
  {
   "cell_type": "code",
   "execution_count": 4,
   "id": "ad72c3ad-7e31-4b65-87c7-b5602828bee9",
   "metadata": {
    "tags": []
   },
   "outputs": [],
   "source": [
    "for col in df.columns:\n",
    "    df = df.withColumnRenamed(col, col.lower())"
   ]
  },
  {
   "cell_type": "markdown",
   "id": "6f7e6c41-7bf4-4fb5-97c9-693a2d5dc553",
   "metadata": {},
   "source": [
    "CONVERTENDO ARQUIVO \"CSV\" PARA \"PARQUET\""
   ]
  },
  {
   "cell_type": "code",
   "execution_count": 5,
   "id": "c1b8dffd-74e3-4ff4-a9dc-3e8357920fa7",
   "metadata": {
    "tags": []
   },
   "outputs": [],
   "source": [
    "df.write.parquet(\"MICRODADOS_IES_CONSULTA.parquet\")\n",
    "\n",
    "parquet_df = spark.read.parquet(\"MICRODADOS_IES_CONSULTA.parquet\")\n",
    "\n",
    "parquet_df.createOrReplaceTempView(\"parquet_df\")\n"
   ]
  },
  {
   "cell_type": "markdown",
   "id": "e7000202-974c-4c0e-9121-d37706ef03c5",
   "metadata": {},
   "source": [
    "CONSULTAS"
   ]
  },
  {
   "cell_type": "markdown",
   "id": "ad0cefb4-753a-4ef6-be70-79e8caddd39b",
   "metadata": {},
   "source": [
    "1º questão- Olhando para o estado de Minas Gerais, quantos municípios têm informações presentes na base de dados?"
   ]
  },
  {
   "cell_type": "code",
   "execution_count": 6,
   "id": "a9ffbe57-f506-4289-9913-2a6376ce3986",
   "metadata": {
    "tags": []
   },
   "outputs": [
    {
     "data": {
      "text/html": [
       "<table border='1'>\n",
       "<tr><th>Qtd_Municipios_Presentes</th></tr>\n",
       "<tr><td>104</td></tr>\n",
       "</table>\n"
      ],
      "text/plain": [
       "+------------------------+\n",
       "|Qtd_Municipios_Presentes|\n",
       "+------------------------+\n",
       "|                     104|\n",
       "+------------------------+"
      ]
     },
     "execution_count": 6,
     "metadata": {},
     "output_type": "execute_result"
    }
   ],
   "source": [
    "spark.sql(\"SELECT COUNT(*) as Qtd_Municipios_Presentes FROM \\\n",
    "            (SELECT DISTINCT no_municipio_ies \\\n",
    "             FROM parquet_df \\\n",
    "             WHERE no_uf_ies = 'Minas Gerais') \\\n",
    "          \")"
   ]
  },
  {
   "cell_type": "markdown",
   "id": "765388df-8d47-4357-b7eb-3ed3d954fb16",
   "metadata": {},
   "source": [
    "2º Questão- Quantos professores doutores existem em cada cidade de Minas Gerais presente na base de dados ?"
   ]
  },
  {
   "cell_type": "code",
   "execution_count": 7,
   "id": "1774066f-a916-4f21-aba4-0171ba5c957b",
   "metadata": {
    "tags": []
   },
   "outputs": [
    {
     "data": {
      "text/html": [
       "<table border='1'>\n",
       "<tr><th>municipio</th><th>Qtd_Doutores</th></tr>\n",
       "<tr><td>Belo Horizonte</td><td>6615</td></tr>\n",
       "<tr><td>Uberl�ndia</td><td>1939</td></tr>\n",
       "<tr><td>Juiz de Fora</td><td>1915</td></tr>\n",
       "<tr><td>Vi�osa</td><td>1185</td></tr>\n",
       "<tr><td>Montes Claros</td><td>925</td></tr>\n",
       "<tr><td>Uberaba</td><td>891</td></tr>\n",
       "<tr><td>Lavras</td><td>812</td></tr>\n",
       "<tr><td>S�o Jo�o del Rei</td><td>753</td></tr>\n",
       "<tr><td>Ouro Preto</td><td>746</td></tr>\n",
       "<tr><td>Diamantina</td><td>673</td></tr>\n",
       "</table>\n",
       "only showing top 10 rows\n"
      ],
      "text/plain": [
       "+----------------+------------+\n",
       "|       municipio|Qtd_Doutores|\n",
       "+----------------+------------+\n",
       "|  Belo Horizonte|        6615|\n",
       "|      Uberl�ndia|        1939|\n",
       "|    Juiz de Fora|        1915|\n",
       "|          Vi�osa|        1185|\n",
       "|   Montes Claros|         925|\n",
       "|         Uberaba|         891|\n",
       "|          Lavras|         812|\n",
       "|S�o Jo�o del Rei|         753|\n",
       "|      Ouro Preto|         746|\n",
       "|      Diamantina|         673|\n",
       "+----------------+------------+\n",
       "only showing top 10 rows"
      ]
     },
     "execution_count": 7,
     "metadata": {},
     "output_type": "execute_result"
    }
   ],
   "source": [
    "spark.sql(\"\"\"SELECT no_municipio_ies as municipio, sum(qt_doc_ex_dout) as Qtd_Doutores \\\n",
    "             from parquet_df \\\n",
    "             WHERE no_uf_ies = 'Minas Gerais' \\\n",
    "             group by no_municipio_ies \\\n",
    "             order by Qtd_Doutores DESC\"\"\")"
   ]
  },
  {
   "cell_type": "markdown",
   "id": "749fae0f-444b-4eb4-8a1c-3d73824e213d",
   "metadata": {},
   "source": [
    "3º Questão- Qual a quantidade de docentes com deficiência no estado do Paraná?"
   ]
  },
  {
   "cell_type": "code",
   "execution_count": 8,
   "id": "8acbcd07-0d11-4837-b295-5e0bd1ca389d",
   "metadata": {
    "tags": []
   },
   "outputs": [
    {
     "data": {
      "text/html": [
       "<table border='1'>\n",
       "<tr><th>Qtd_docentes_deficientes</th></tr>\n",
       "<tr><td>160</td></tr>\n",
       "</table>\n"
      ],
      "text/plain": [
       "+------------------------+\n",
       "|Qtd_docentes_deficientes|\n",
       "+------------------------+\n",
       "|                     160|\n",
       "+------------------------+"
      ]
     },
     "execution_count": 8,
     "metadata": {},
     "output_type": "execute_result"
    }
   ],
   "source": [
    "spark.sql(\"SELECT SUM(qt_doc_ex_com_deficiencia) as Qtd_docentes_deficientes \\\n",
    "          from parquet_df \\\n",
    "          WHERE sg_uf_ies= 'PR' \")"
   ]
  },
  {
   "cell_type": "markdown",
   "id": "bfe5cdf0-8a6f-45de-a843-db09a4c8fe14",
   "metadata": {},
   "source": [
    "FIM DO DESAFIO... POR ENQUANTO... ;)"
   ]
  }
 ],
 "metadata": {
  "kernelspec": {
   "display_name": "Python 3 (ipykernel)",
   "language": "python",
   "name": "python3"
  },
  "language_info": {
   "codemirror_mode": {
    "name": "ipython",
    "version": 3
   },
   "file_extension": ".py",
   "mimetype": "text/x-python",
   "name": "python",
   "nbconvert_exporter": "python",
   "pygments_lexer": "ipython3",
   "version": "3.10.10"
  }
 },
 "nbformat": 4,
 "nbformat_minor": 5
}
